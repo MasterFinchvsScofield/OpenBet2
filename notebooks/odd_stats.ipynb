{
 "cells": [
  {
   "cell_type": "code",
   "execution_count": 1,
   "metadata": {},
   "outputs": [],
   "source": [
    "import sys\n",
    "sys.path.insert(1, \"../modules\")"
   ]
  },
  {
   "cell_type": "code",
   "execution_count": 2,
   "metadata": {},
   "outputs": [],
   "source": [
    "import get_data\n",
    "import time\n",
    "\n",
    "# Number of races\n",
    "N = 38524"
   ]
  },
  {
   "cell_type": "code",
   "execution_count": 3,
   "metadata": {},
   "outputs": [],
   "source": [
    "i = 0\n",
    "def handle_course(course):\n",
    "    global i\n",
    "    i += 1\n",
    "    if (i % 1000 == 0):\n",
    "        print(\"{:2f}%\".format(i / N * 100))"
   ]
  },
  {
   "cell_type": "code",
   "execution_count": 5,
   "metadata": {},
   "outputs": [
    {
     "name": "stdout",
     "output_type": "stream",
     "text": [
      "98.639809%\n",
      "101.235593%\n",
      "103.831378%\n",
      "106.427162%\n",
      "109.022947%\n",
      "111.618731%\n",
      "114.214516%\n",
      "116.810300%\n",
      "119.406085%\n",
      "122.001869%\n",
      "124.597653%\n",
      "127.193438%\n",
      "129.789222%\n",
      "132.385007%\n",
      "134.980791%\n",
      "137.576576%\n",
      "140.172360%\n",
      "142.768145%\n",
      "145.363929%\n",
      "147.959713%\n",
      "150.555498%\n",
      "153.151282%\n",
      "155.747067%\n",
      "158.342851%\n",
      "160.938636%\n",
      "163.534420%\n",
      "166.130205%\n",
      "168.725989%\n",
      "171.321773%\n",
      "173.917558%\n",
      "176.513342%\n",
      "179.109127%\n",
      "181.704911%\n",
      "184.300696%\n",
      "186.896480%\n",
      "189.492265%\n",
      "192.088049%\n",
      "194.683833%\n",
      "Done in 24.590022563934326 seconds\n",
      "75060\n"
     ]
    }
   ],
   "source": [
    "start = time.time()\n",
    "get_data.go_through_courses(handle_course)\n",
    "print(\"Done in {} seconds\".format(time.time() - start))\n",
    "print(i)"
   ]
  },
  {
   "cell_type": "code",
   "execution_count": null,
   "metadata": {},
   "outputs": [],
   "source": []
  }
 ],
 "metadata": {
  "kernelspec": {
   "display_name": "Python 3",
   "language": "python",
   "name": "python3"
  },
  "language_info": {
   "codemirror_mode": {
    "name": "ipython",
    "version": 3
   },
   "file_extension": ".py",
   "mimetype": "text/x-python",
   "name": "python",
   "nbconvert_exporter": "python",
   "pygments_lexer": "ipython3",
   "version": "3.8.0"
  }
 },
 "nbformat": 4,
 "nbformat_minor": 4
}
