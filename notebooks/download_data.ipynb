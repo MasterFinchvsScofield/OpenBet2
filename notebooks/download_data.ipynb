{
 "cells": [
  {
   "cell_type": "code",
   "execution_count": 9,
   "metadata": {},
   "outputs": [],
   "source": [
    "import sys\n",
    "sys.path.insert(1, \"../modules\")"
   ]
  },
  {
   "cell_type": "code",
   "execution_count": 10,
   "metadata": {},
   "outputs": [],
   "source": [
    "import path\n",
    "import get_data\n",
    "import time\n",
    "from datetime import date, timedelta"
   ]
  },
  {
   "cell_type": "markdown",
   "metadata": {},
   "source": [
    "We are going to download every programme since 16/06/2013.\n",
    "Each time we download a program, we download the races associated.\n",
    "WAIT_TIME is here to be more discrete."
   ]
  },
  {
   "cell_type": "code",
   "execution_count": 1,
   "metadata": {},
   "outputs": [],
   "source": [
    "WAIT_TIME = .4\n",
    "\n",
    "def handle_programme(date):\n",
    "    programme = get_data.get_programme(date)\n",
    "    if (programme == -1):\n",
    "        return\n",
    "    for reunion in programme[\"reunions\"]:\n",
    "        for course in reunion[\"courses\"]:\n",
    "            if (course[\"discipline\"] == \"PLAT\"):\n",
    "                get_data.get_participants(date, reunion[\"numOfficiel\"], course[\"numOrdre\"])\n",
    "                #time.sleep(WAIT_TIME)"
   ]
  },
  {
   "cell_type": "markdown",
   "metadata": {},
   "source": [
    "StackOverflowed code to iterate between two dates"
   ]
  },
  {
   "cell_type": "code",
   "execution_count": 12,
   "metadata": {},
   "outputs": [],
   "source": [
    "def daterange(start_date, end_date):\n",
    "    for n in range(int ((end_date - start_date).days)):\n",
    "        yield start_date + timedelta(n)"
   ]
  },
  {
   "cell_type": "code",
   "execution_count": 13,
   "metadata": {
    "scrolled": true
   },
   "outputs": [
    {
     "name": "stdout",
     "output_type": "stream",
     "text": [
      "Downloading programme 22062013\n",
      "Cannot download programme 22062013\n",
      "Downloading race 21062019 R3 C5\n"
     ]
    }
   ],
   "source": [
    "start_date = date(2013, 6, 16)\n",
    "end_date = date.today()\n",
    "for single_date in daterange(start_date, end_date):\n",
    "    handle_programme(single_date.strftime(\"%d%m%Y\"))\n",
    "    #time.sleep(WAIT_TIME)"
   ]
  },
  {
   "cell_type": "code",
   "execution_count": null,
   "metadata": {},
   "outputs": [],
   "source": []
  }
 ],
 "metadata": {
  "kernelspec": {
   "display_name": "Python 3",
   "language": "python",
   "name": "python3"
  },
  "language_info": {
   "codemirror_mode": {
    "name": "ipython",
    "version": 3
   },
   "file_extension": ".py",
   "mimetype": "text/x-python",
   "name": "python",
   "nbconvert_exporter": "python",
   "pygments_lexer": "ipython3",
   "version": "3.8.0"
  }
 },
 "nbformat": 4,
 "nbformat_minor": 4
}
